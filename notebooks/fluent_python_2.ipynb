{
 "cells": [
  {
   "metadata": {},
   "cell_type": "markdown",
   "source": "## List comprehensions",
   "id": "ce147c744d99b41e"
  },
  {
   "metadata": {
    "ExecuteTime": {
     "end_time": "2025-05-04T14:20:01.929416Z",
     "start_time": "2025-05-04T14:20:01.916173Z"
    }
   },
   "cell_type": "code",
   "source": [
    "%%time\n",
    "symbols = '$¢£¥€¤'\n",
    "codes = []\n",
    "for symbol in symbols:\n",
    "    codes.append(ord(symbol))\n",
    "codes    "
   ],
   "id": "94e8505c6eaa85dd",
   "outputs": [
    {
     "name": "stdout",
     "output_type": "stream",
     "text": [
      "CPU times: user 14 µs, sys: 0 ns, total: 14 µs\n",
      "Wall time: 16.2 µs\n"
     ]
    },
    {
     "data": {
      "text/plain": [
       "[36, 162, 163, 165, 8364, 164]"
      ]
     },
     "execution_count": 1,
     "metadata": {},
     "output_type": "execute_result"
    }
   ],
   "execution_count": 1
  },
  {
   "metadata": {
    "ExecuteTime": {
     "end_time": "2025-05-04T14:20:01.936863Z",
     "start_time": "2025-05-04T14:20:01.932475Z"
    }
   },
   "cell_type": "code",
   "source": [
    "%%time\n",
    "symbols = '$¢£¥€¤'\n",
    "codes = [ord(symbol) for symbol in symbols]\n"
   ],
   "id": "b1c2af81231ab48f",
   "outputs": [
    {
     "name": "stdout",
     "output_type": "stream",
     "text": [
      "CPU times: user 5 µs, sys: 0 ns, total: 5 µs\n",
      "Wall time: 6.91 µs\n"
     ]
    }
   ],
   "execution_count": 2
  },
  {
   "metadata": {},
   "cell_type": "markdown",
   "source": "### Global and local scope",
   "id": "f0b3892e9643e201"
  },
  {
   "metadata": {
    "ExecuteTime": {
     "end_time": "2025-05-04T14:27:30.092712Z",
     "start_time": "2025-05-04T14:27:30.075356Z"
    }
   },
   "cell_type": "code",
   "source": [
    "codes = [first := ord(symbol) for symbol in symbols]\n",
    "first"
   ],
   "id": "7ae4ff1372a47b84",
   "outputs": [
    {
     "data": {
      "text/plain": [
       "164"
      ]
     },
     "execution_count": 6,
     "metadata": {},
     "output_type": "execute_result"
    }
   ],
   "execution_count": 6
  },
  {
   "metadata": {},
   "cell_type": "markdown",
   "source": "### As alternative to map filter",
   "id": "3a7690d325141f9"
  },
  {
   "metadata": {
    "ExecuteTime": {
     "end_time": "2025-05-04T14:30:11.615655Z",
     "start_time": "2025-05-04T14:30:11.606220Z"
    }
   },
   "cell_type": "code",
   "source": [
    "symbols = '$¢£¥€¤'\n",
    "beyond_ascii = [ord(symbol) for symbol in symbols if ord(symbol)>127]\n",
    "beyond_ascii"
   ],
   "id": "9b19c68a22aa96bc",
   "outputs": [
    {
     "data": {
      "text/plain": [
       "[162, 163, 165, 8364, 164]"
      ]
     },
     "execution_count": 9,
     "metadata": {},
     "output_type": "execute_result"
    }
   ],
   "execution_count": 9
  },
  {
   "metadata": {
    "ExecuteTime": {
     "end_time": "2025-05-04T14:33:23.953376Z",
     "start_time": "2025-05-04T14:33:23.950836Z"
    }
   },
   "cell_type": "code",
   "source": "beyond_ascii = list(filter(lambda x: x>127,(map(ord,symbols))))",
   "id": "934da5182eead6e0",
   "outputs": [],
   "execution_count": 14
  },
  {
   "metadata": {
    "ExecuteTime": {
     "end_time": "2025-05-04T14:36:01.373138Z",
     "start_time": "2025-05-04T14:36:01.369795Z"
    }
   },
   "cell_type": "code",
   "source": [
    "ascii =list(lambda symbols:ord(x) for x in symbols)\n",
    "ascii"
   ],
   "id": "146a72abce71bf9a",
   "outputs": [],
   "execution_count": 21
  },
  {
   "metadata": {
    "ExecuteTime": {
     "end_time": "2025-05-04T14:39:31.256780Z",
     "start_time": "2025-05-04T14:39:31.249060Z"
    }
   },
   "cell_type": "code",
   "source": [
    "words = [\"apple\", \"banana\", \"cherry\", \"date\", \"elderberry\", \"fig\", \"grape\"]\n",
    "length = lambda fruits: [len(x) for x in fruits]\n",
    "word_lengths = length(words)\n",
    "word_lengths"
   ],
   "id": "123abf345e27c351",
   "outputs": [
    {
     "data": {
      "text/plain": [
       "[5, 6, 6, 4, 10, 3, 5]"
      ]
     },
     "execution_count": 24,
     "metadata": {},
     "output_type": "execute_result"
    }
   ],
   "execution_count": 24
  },
  {
   "metadata": {
    "ExecuteTime": {
     "end_time": "2025-05-04T14:47:22.161249Z",
     "start_time": "2025-05-04T14:47:22.156128Z"
    }
   },
   "cell_type": "code",
   "source": [
    "filtered = list(filter(lambda x: (len(x)) >= 5,words))\n",
    "filtered"
   ],
   "id": "2f5946aa76261621",
   "outputs": [
    {
     "data": {
      "text/plain": [
       "['apple', 'banana', 'cherry', 'elderberry', 'grape']"
      ]
     },
     "execution_count": 37,
     "metadata": {},
     "output_type": "execute_result"
    }
   ],
   "execution_count": 37
  },
  {
   "metadata": {
    "ExecuteTime": {
     "end_time": "2025-05-04T14:49:12.404361Z",
     "start_time": "2025-05-04T14:49:12.399929Z"
    }
   },
   "cell_type": "code",
   "source": [
    "upper = list(map(lambda x:x.upper(),words))\n",
    "upper"
   ],
   "id": "25cc4bbb86670635",
   "outputs": [
    {
     "data": {
      "text/plain": [
       "['APPLE', 'BANANA', 'CHERRY', 'DATE', 'ELDERBERRY', 'FIG', 'GRAPE']"
      ]
     },
     "execution_count": 44,
     "metadata": {},
     "output_type": "execute_result"
    }
   ],
   "execution_count": 44
  },
  {
   "metadata": {},
   "cell_type": "code",
   "outputs": [],
   "execution_count": null,
   "source": "",
   "id": "1ae99d95d382f4c"
  }
 ],
 "metadata": {
  "kernelspec": {
   "display_name": "Python 3",
   "language": "python",
   "name": "python3"
  },
  "language_info": {
   "codemirror_mode": {
    "name": "ipython",
    "version": 2
   },
   "file_extension": ".py",
   "mimetype": "text/x-python",
   "name": "python",
   "nbconvert_exporter": "python",
   "pygments_lexer": "ipython2",
   "version": "2.7.6"
  }
 },
 "nbformat": 4,
 "nbformat_minor": 5
}
