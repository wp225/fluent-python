{
 "cells": [
  {
   "metadata": {},
   "cell_type": "markdown",
   "source": "## List comprehensions",
   "id": "ce147c744d99b41e"
  },
  {
   "metadata": {
    "ExecuteTime": {
     "end_time": "2025-05-14T02:20:25.709227Z",
     "start_time": "2025-05-14T02:20:25.691291Z"
    }
   },
   "cell_type": "code",
   "source": [
    "%%time\n",
    "symbols = '$¢£¥€¤'\n",
    "codes = []\n",
    "for symbol in symbols:\n",
    "    codes.append(ord(symbol))\n",
    "codes    "
   ],
   "id": "94e8505c6eaa85dd",
   "outputs": [
    {
     "name": "stdout",
     "output_type": "stream",
     "text": [
      "CPU times: user 17 µs, sys: 0 ns, total: 17 µs\n",
      "Wall time: 21 µs\n"
     ]
    },
    {
     "data": {
      "text/plain": [
       "[36, 162, 163, 165, 8364, 164]"
      ]
     },
     "execution_count": 1,
     "metadata": {},
     "output_type": "execute_result"
    }
   ],
   "execution_count": 1
  },
  {
   "metadata": {
    "ExecuteTime": {
     "end_time": "2025-05-14T02:20:27.495738Z",
     "start_time": "2025-05-14T02:20:27.490884Z"
    }
   },
   "cell_type": "code",
   "source": [
    "%%time\n",
    "symbols = '$¢£¥€¤'\n",
    "codes = [ord(symbol) for symbol in symbols]\n"
   ],
   "id": "b1c2af81231ab48f",
   "outputs": [
    {
     "name": "stdout",
     "output_type": "stream",
     "text": [
      "CPU times: user 4 µs, sys: 0 ns, total: 4 µs\n",
      "Wall time: 5.01 µs\n"
     ]
    }
   ],
   "execution_count": 2
  },
  {
   "metadata": {
    "ExecuteTime": {
     "end_time": "2025-05-14T02:28:46.806264Z",
     "start_time": "2025-05-14T02:28:46.601318Z"
    }
   },
   "cell_type": "code",
   "source": [
    "import ctypes\n",
    "\n",
    "class PyObject(ctypes.Structure):\n",
    "    _fields_ = [\n",
    "        (\"ob_refcnt\", ctypes.c_ssize_t),\n",
    "        (\"ob_type\", ctypes.c_void_p),\n",
    "    ]\n",
    "\n",
    "class PyVarObject(ctypes.Structure):\n",
    "    _fields_ = [\n",
    "        (\"ob_base\", PyObject),\n",
    "        (\"ob_size\", ctypes.c_ssize_t),\n",
    "    ]\n",
    "var_obj = PyVarObject.from_address(id(codes))"
   ],
   "id": "564e71c9fa7c09d7",
   "outputs": [
    {
     "ename": "AttributeError",
     "evalue": "'PyVarObject' object has no attribute 'ob_type'",
     "output_type": "error",
     "traceback": [
      "\u001B[0;31m---------------------------------------------------------------------------\u001B[0m",
      "\u001B[0;31mAttributeError\u001B[0m                            Traceback (most recent call last)",
      "Cell \u001B[0;32mIn[10], line 15\u001B[0m\n\u001B[1;32m     10\u001B[0m     _fields_ \u001B[38;5;241m=\u001B[39m [\n\u001B[1;32m     11\u001B[0m         (\u001B[38;5;124m\"\u001B[39m\u001B[38;5;124mob_base\u001B[39m\u001B[38;5;124m\"\u001B[39m, PyObject),\n\u001B[1;32m     12\u001B[0m         (\u001B[38;5;124m\"\u001B[39m\u001B[38;5;124mob_size\u001B[39m\u001B[38;5;124m\"\u001B[39m, ctypes\u001B[38;5;241m.\u001B[39mc_ssize_t),\n\u001B[1;32m     13\u001B[0m     ]\n\u001B[1;32m     14\u001B[0m var_obj \u001B[38;5;241m=\u001B[39m PyVarObject\u001B[38;5;241m.\u001B[39mfrom_address(\u001B[38;5;28mid\u001B[39m(codes))\n\u001B[0;32m---> 15\u001B[0m \u001B[43mvar_obj\u001B[49m\u001B[38;5;241;43m.\u001B[39;49m\u001B[43mob_type\u001B[49m\n",
      "\u001B[0;31mAttributeError\u001B[0m: 'PyVarObject' object has no attribute 'ob_type'"
     ]
    }
   ],
   "execution_count": 10
  },
  {
   "metadata": {},
   "cell_type": "markdown",
   "source": "### Global and local scope",
   "id": "f0b3892e9643e201"
  },
  {
   "metadata": {
    "ExecuteTime": {
     "end_time": "2025-05-04T14:27:30.092712Z",
     "start_time": "2025-05-04T14:27:30.075356Z"
    }
   },
   "cell_type": "code",
   "source": [
    "codes = [first := ord(symbol) for symbol in symbols]\n",
    "first"
   ],
   "id": "7ae4ff1372a47b84",
   "outputs": [
    {
     "data": {
      "text/plain": [
       "164"
      ]
     },
     "execution_count": 6,
     "metadata": {},
     "output_type": "execute_result"
    }
   ],
   "execution_count": 6
  },
  {
   "metadata": {},
   "cell_type": "markdown",
   "source": "### As alternative to map filter",
   "id": "3a7690d325141f9"
  },
  {
   "metadata": {
    "ExecuteTime": {
     "end_time": "2025-05-04T14:30:11.615655Z",
     "start_time": "2025-05-04T14:30:11.606220Z"
    }
   },
   "cell_type": "code",
   "source": [
    "symbols = '$¢£¥€¤'\n",
    "beyond_ascii = [ord(symbol) for symbol in symbols if ord(symbol)>127]\n",
    "beyond_ascii"
   ],
   "id": "9b19c68a22aa96bc",
   "outputs": [
    {
     "data": {
      "text/plain": [
       "[162, 163, 165, 8364, 164]"
      ]
     },
     "execution_count": 9,
     "metadata": {},
     "output_type": "execute_result"
    }
   ],
   "execution_count": 9
  },
  {
   "metadata": {
    "ExecuteTime": {
     "end_time": "2025-05-04T14:33:23.953376Z",
     "start_time": "2025-05-04T14:33:23.950836Z"
    }
   },
   "cell_type": "code",
   "source": "beyond_ascii = list(filter(lambda x: x>127,(map(ord,symbols))))",
   "id": "934da5182eead6e0",
   "outputs": [],
   "execution_count": 14
  },
  {
   "metadata": {
    "ExecuteTime": {
     "end_time": "2025-05-04T14:36:01.373138Z",
     "start_time": "2025-05-04T14:36:01.369795Z"
    }
   },
   "cell_type": "code",
   "source": [
    "ascii =list(lambda symbols:ord(x) for x in symbols)\n",
    "ascii"
   ],
   "id": "146a72abce71bf9a",
   "outputs": [],
   "execution_count": 21
  },
  {
   "metadata": {
    "ExecuteTime": {
     "end_time": "2025-05-04T14:39:31.256780Z",
     "start_time": "2025-05-04T14:39:31.249060Z"
    }
   },
   "cell_type": "code",
   "source": [
    "words = [\"apple\", \"banana\", \"cherry\", \"date\", \"elderberry\", \"fig\", \"grape\"]\n",
    "length = lambda fruits: [len(x) for x in fruits]\n",
    "word_lengths = length(words)\n",
    "word_lengths"
   ],
   "id": "123abf345e27c351",
   "outputs": [
    {
     "data": {
      "text/plain": [
       "[5, 6, 6, 4, 10, 3, 5]"
      ]
     },
     "execution_count": 24,
     "metadata": {},
     "output_type": "execute_result"
    }
   ],
   "execution_count": 24
  },
  {
   "metadata": {
    "ExecuteTime": {
     "end_time": "2025-05-04T14:47:22.161249Z",
     "start_time": "2025-05-04T14:47:22.156128Z"
    }
   },
   "cell_type": "code",
   "source": [
    "filtered = list(filter(lambda x: (len(x)) >= 5,words))\n",
    "filtered"
   ],
   "id": "2f5946aa76261621",
   "outputs": [
    {
     "data": {
      "text/plain": [
       "['apple', 'banana', 'cherry', 'elderberry', 'grape']"
      ]
     },
     "execution_count": 37,
     "metadata": {},
     "output_type": "execute_result"
    }
   ],
   "execution_count": 37
  },
  {
   "metadata": {
    "ExecuteTime": {
     "end_time": "2025-05-04T14:49:12.404361Z",
     "start_time": "2025-05-04T14:49:12.399929Z"
    }
   },
   "cell_type": "code",
   "source": [
    "upper = list(map(lambda x:x.upper(),words))\n",
    "upper"
   ],
   "id": "25cc4bbb86670635",
   "outputs": [
    {
     "data": {
      "text/plain": [
       "['APPLE', 'BANANA', 'CHERRY', 'DATE', 'ELDERBERRY', 'FIG', 'GRAPE']"
      ]
     },
     "execution_count": 44,
     "metadata": {},
     "output_type": "execute_result"
    }
   ],
   "execution_count": 44
  },
  {
   "metadata": {},
   "cell_type": "code",
   "outputs": [],
   "execution_count": null,
   "source": "",
   "id": "1ae99d95d382f4c"
  }
 ],
 "metadata": {
  "kernelspec": {
   "display_name": "Python 3",
   "language": "python",
   "name": "python3"
  },
  "language_info": {
   "codemirror_mode": {
    "name": "ipython",
    "version": 2
   },
   "file_extension": ".py",
   "mimetype": "text/x-python",
   "name": "python",
   "nbconvert_exporter": "python",
   "pygments_lexer": "ipython2",
   "version": "2.7.6"
  }
 },
 "nbformat": 4,
 "nbformat_minor": 5
}
