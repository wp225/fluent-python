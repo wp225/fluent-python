{
 "cells": [
  {
   "cell_type": "code",
   "id": "initial_id",
   "metadata": {
    "collapsed": true,
    "ExecuteTime": {
     "end_time": "2025-03-30T05:54:54.851996Z",
     "start_time": "2025-03-30T05:54:54.846900Z"
    }
   },
   "source": [
    "import collections\n",
    "Card = collections.namedtuple('Card', ['rank', 'suit'])\n",
    "class FrenchDeck:\n",
    "    ranks = [str(n) for n in range(2, 11)] + list('JQKA')\n",
    "    suits = 'spades diamonds clubs hearts'.split()\n",
    "    def __init__(self):\n",
    "        self._cards = [Card(rank, suit) for suit in self.suits\n",
    "                                        for rank in self.ranks]\n",
    "    def __len__(self):\n",
    "        return len(self._cards)\n",
    "    def __getitem__(self, position):\n",
    "        return self._cards[position]"
   ],
   "outputs": [],
   "execution_count": 5
  },
  {
   "metadata": {
    "ExecuteTime": {
     "end_time": "2025-03-30T05:54:55.034859Z",
     "start_time": "2025-03-30T05:54:55.025425Z"
    }
   },
   "cell_type": "code",
   "source": [
    "test_card = Card('7','spade')\n",
    "test_card"
   ],
   "id": "a86c8095f2cd0d40",
   "outputs": [
    {
     "data": {
      "text/plain": [
       "Card(rank='7', suit='spade')"
      ]
     },
     "execution_count": 6,
     "metadata": {},
     "output_type": "execute_result"
    }
   ],
   "execution_count": 6
  },
  {
   "metadata": {
    "ExecuteTime": {
     "end_time": "2025-03-30T05:54:55.178714Z",
     "start_time": "2025-03-30T05:54:55.175132Z"
    }
   },
   "cell_type": "code",
   "source": [
    "deck = FrenchDeck()\n",
    "len(deck) # made possible by __len__"
   ],
   "id": "e54089ff96ac5dc7",
   "outputs": [
    {
     "data": {
      "text/plain": [
       "52"
      ]
     },
     "execution_count": 7,
     "metadata": {},
     "output_type": "execute_result"
    }
   ],
   "execution_count": 7
  },
  {
   "metadata": {
    "ExecuteTime": {
     "end_time": "2025-03-30T05:54:55.345799Z",
     "start_time": "2025-03-30T05:54:55.342086Z"
    }
   },
   "cell_type": "code",
   "source": "deck[0]  # made possible by __getitem__",
   "id": "b5c908f832dbb7f3",
   "outputs": [
    {
     "data": {
      "text/plain": [
       "Card(rank='2', suit='spades')"
      ]
     },
     "execution_count": 8,
     "metadata": {},
     "output_type": "execute_result"
    }
   ],
   "execution_count": 8
  },
  {
   "metadata": {
    "ExecuteTime": {
     "end_time": "2025-03-30T05:54:55.500005Z",
     "start_time": "2025-03-30T05:54:55.496573Z"
    }
   },
   "cell_type": "code",
   "source": "deck[-1]",
   "id": "698b8ccff267d5e4",
   "outputs": [
    {
     "data": {
      "text/plain": [
       "Card(rank='A', suit='hearts')"
      ]
     },
     "execution_count": 9,
     "metadata": {},
     "output_type": "execute_result"
    }
   ],
   "execution_count": 9
  },
  {
   "metadata": {
    "ExecuteTime": {
     "end_time": "2025-03-30T05:54:56.223862Z",
     "start_time": "2025-03-30T05:54:56.219504Z"
    }
   },
   "cell_type": "code",
   "source": [
    "from random import choice\n",
    "choice(deck)"
   ],
   "id": "30d8693e947081fb",
   "outputs": [
    {
     "data": {
      "text/plain": [
       "Card(rank='5', suit='hearts')"
      ]
     },
     "execution_count": 10,
     "metadata": {},
     "output_type": "execute_result"
    }
   ],
   "execution_count": 10
  },
  {
   "metadata": {
    "ExecuteTime": {
     "end_time": "2025-03-30T05:54:56.689103Z",
     "start_time": "2025-03-30T05:54:56.686498Z"
    }
   },
   "cell_type": "code",
   "source": "deck[3:6] # made possible by __getitem__",
   "id": "21829f4c0d2a67d6",
   "outputs": [
    {
     "data": {
      "text/plain": [
       "[Card(rank='5', suit='spades'),\n",
       " Card(rank='6', suit='spades'),\n",
       " Card(rank='7', suit='spades')]"
      ]
     },
     "execution_count": 11,
     "metadata": {},
     "output_type": "execute_result"
    }
   ],
   "execution_count": 11
  },
  {
   "metadata": {
    "ExecuteTime": {
     "end_time": "2025-03-30T05:45:37.635662Z",
     "start_time": "2025-03-30T05:45:37.631656Z"
    }
   },
   "cell_type": "code",
   "source": [
    "for card in (deck):\n",
    "    print(card)"
   ],
   "id": "e5dd230202bd5dae",
   "outputs": [
    {
     "name": "stdout",
     "output_type": "stream",
     "text": [
      "Card(rank='2', suit='spades')\n",
      "Card(rank='3', suit='spades')\n",
      "Card(rank='4', suit='spades')\n",
      "Card(rank='5', suit='spades')\n",
      "Card(rank='6', suit='spades')\n",
      "Card(rank='7', suit='spades')\n",
      "Card(rank='8', suit='spades')\n",
      "Card(rank='9', suit='spades')\n",
      "Card(rank='10', suit='spades')\n",
      "Card(rank='J', suit='spades')\n",
      "Card(rank='Q', suit='spades')\n",
      "Card(rank='K', suit='spades')\n",
      "Card(rank='A', suit='spades')\n",
      "Card(rank='2', suit='diamonds')\n",
      "Card(rank='3', suit='diamonds')\n",
      "Card(rank='4', suit='diamonds')\n",
      "Card(rank='5', suit='diamonds')\n",
      "Card(rank='6', suit='diamonds')\n",
      "Card(rank='7', suit='diamonds')\n",
      "Card(rank='8', suit='diamonds')\n",
      "Card(rank='9', suit='diamonds')\n",
      "Card(rank='10', suit='diamonds')\n",
      "Card(rank='J', suit='diamonds')\n",
      "Card(rank='Q', suit='diamonds')\n",
      "Card(rank='K', suit='diamonds')\n",
      "Card(rank='A', suit='diamonds')\n",
      "Card(rank='2', suit='clubs')\n",
      "Card(rank='3', suit='clubs')\n",
      "Card(rank='4', suit='clubs')\n",
      "Card(rank='5', suit='clubs')\n",
      "Card(rank='6', suit='clubs')\n",
      "Card(rank='7', suit='clubs')\n",
      "Card(rank='8', suit='clubs')\n",
      "Card(rank='9', suit='clubs')\n",
      "Card(rank='10', suit='clubs')\n",
      "Card(rank='J', suit='clubs')\n",
      "Card(rank='Q', suit='clubs')\n",
      "Card(rank='K', suit='clubs')\n",
      "Card(rank='A', suit='clubs')\n",
      "Card(rank='2', suit='hearts')\n",
      "Card(rank='3', suit='hearts')\n",
      "Card(rank='4', suit='hearts')\n",
      "Card(rank='5', suit='hearts')\n",
      "Card(rank='6', suit='hearts')\n",
      "Card(rank='7', suit='hearts')\n",
      "Card(rank='8', suit='hearts')\n",
      "Card(rank='9', suit='hearts')\n",
      "Card(rank='10', suit='hearts')\n",
      "Card(rank='J', suit='hearts')\n",
      "Card(rank='Q', suit='hearts')\n",
      "Card(rank='K', suit='hearts')\n",
      "Card(rank='A', suit='hearts')\n"
     ]
    }
   ],
   "execution_count": 65
  },
  {
   "metadata": {
    "ExecuteTime": {
     "end_time": "2025-03-30T05:48:15.327910Z",
     "start_time": "2025-03-30T05:48:15.325599Z"
    }
   },
   "cell_type": "code",
   "source": [
    "print(Card('7','spades') in deck)\n",
    "print(Card('1', 'spades') in deck)"
   ],
   "id": "269558f303e612eb",
   "outputs": [
    {
     "name": "stdout",
     "output_type": "stream",
     "text": [
      "True\n",
      "False\n"
     ]
    }
   ],
   "execution_count": 67
  },
  {
   "metadata": {
    "ExecuteTime": {
     "end_time": "2025-03-30T06:07:06.479799Z",
     "start_time": "2025-03-30T06:07:06.475231Z"
    }
   },
   "cell_type": "code",
   "source": [
    "suit_values = dict(spades = 3, hearts=2, diamonds = 1, clubs = 0)\n",
    "def spades_high(card):\n",
    "    rank_value = FrenchDeck.ranks.index(card.rank)\n",
    "    return rank_value*len(suit_values) + suit_values[card.suit]\n",
    "    "
   ],
   "id": "e02916726ef7c9db",
   "outputs": [],
   "execution_count": 23
  },
  {
   "metadata": {
    "ExecuteTime": {
     "end_time": "2025-03-30T06:07:06.646990Z",
     "start_time": "2025-03-30T06:07:06.643392Z"
    }
   },
   "cell_type": "code",
   "source": [
    "for card in sorted(deck, key =spades_high):\n",
    "    print(card)"
   ],
   "id": "148f69d580ad8831",
   "outputs": [
    {
     "name": "stdout",
     "output_type": "stream",
     "text": [
      "Card(rank='2', suit='clubs')\n",
      "Card(rank='2', suit='diamonds')\n",
      "Card(rank='2', suit='hearts')\n",
      "Card(rank='2', suit='spades')\n",
      "Card(rank='3', suit='clubs')\n",
      "Card(rank='3', suit='diamonds')\n",
      "Card(rank='3', suit='hearts')\n",
      "Card(rank='3', suit='spades')\n",
      "Card(rank='4', suit='clubs')\n",
      "Card(rank='4', suit='diamonds')\n",
      "Card(rank='4', suit='hearts')\n",
      "Card(rank='4', suit='spades')\n",
      "Card(rank='5', suit='clubs')\n",
      "Card(rank='5', suit='diamonds')\n",
      "Card(rank='5', suit='hearts')\n",
      "Card(rank='5', suit='spades')\n",
      "Card(rank='6', suit='clubs')\n",
      "Card(rank='6', suit='diamonds')\n",
      "Card(rank='6', suit='hearts')\n",
      "Card(rank='6', suit='spades')\n",
      "Card(rank='7', suit='clubs')\n",
      "Card(rank='7', suit='diamonds')\n",
      "Card(rank='7', suit='hearts')\n",
      "Card(rank='7', suit='spades')\n",
      "Card(rank='8', suit='clubs')\n",
      "Card(rank='8', suit='diamonds')\n",
      "Card(rank='8', suit='hearts')\n",
      "Card(rank='8', suit='spades')\n",
      "Card(rank='9', suit='clubs')\n",
      "Card(rank='9', suit='diamonds')\n",
      "Card(rank='9', suit='hearts')\n",
      "Card(rank='9', suit='spades')\n",
      "Card(rank='10', suit='clubs')\n",
      "Card(rank='10', suit='diamonds')\n",
      "Card(rank='10', suit='hearts')\n",
      "Card(rank='10', suit='spades')\n",
      "Card(rank='J', suit='clubs')\n",
      "Card(rank='J', suit='diamonds')\n",
      "Card(rank='J', suit='hearts')\n",
      "Card(rank='J', suit='spades')\n",
      "Card(rank='Q', suit='clubs')\n",
      "Card(rank='Q', suit='diamonds')\n",
      "Card(rank='Q', suit='hearts')\n",
      "Card(rank='Q', suit='spades')\n",
      "Card(rank='K', suit='clubs')\n",
      "Card(rank='K', suit='diamonds')\n",
      "Card(rank='K', suit='hearts')\n",
      "Card(rank='K', suit='spades')\n",
      "Card(rank='A', suit='clubs')\n",
      "Card(rank='A', suit='diamonds')\n",
      "Card(rank='A', suit='hearts')\n",
      "Card(rank='A', suit='spades')\n"
     ]
    }
   ],
   "execution_count": 24
  },
  {
   "metadata": {
    "ExecuteTime": {
     "end_time": "2025-04-02T08:07:27.701933Z",
     "start_time": "2025-04-02T08:07:27.694996Z"
    }
   },
   "cell_type": "code",
   "source": [
    "import math\n",
    "\n",
    "class Vector:\n",
    "    def __init__(self,x,y):\n",
    "        self.x = x\n",
    "        self.y = y\n",
    "    def __repr__(self):\n",
    "        return f'Vector({self.x!r}, {self.y!r})'\n",
    "    def __add__(self, other):\n",
    "        return Vector(self.x+ other.x, self.y+other.y)\n",
    "    def __abs__(self):\n",
    "        return math.hypot(self.x,self.y)\n",
    "    def __bool__(self):\n",
    "        return bool(abs(self))\n",
    "    def __mul__(self, other):\n",
    "        return Vector(self.x*other , self.y*other)\n",
    "    def __bool__(self):\n",
    "        return bool(self.x or self.y)"
   ],
   "id": "b17672b19fb8529",
   "outputs": [],
   "execution_count": 31
  },
  {
   "metadata": {
    "ExecuteTime": {
     "end_time": "2025-04-02T08:07:40.909059Z",
     "start_time": "2025-04-02T08:07:40.906146Z"
    }
   },
   "cell_type": "code",
   "source": [
    "v1 = Vector(1.0,2)\n",
    "v2 = Vector(-111,-2)\n",
    "v1 + v2"
   ],
   "id": "b2747741de25efc2",
   "outputs": [
    {
     "data": {
      "text/plain": [
       "Vector(-110.0, 0)"
      ]
     },
     "execution_count": 33,
     "metadata": {},
     "output_type": "execute_result"
    }
   ],
   "execution_count": 33
  },
  {
   "metadata": {
    "ExecuteTime": {
     "end_time": "2025-04-02T07:56:33.063003Z",
     "start_time": "2025-04-02T07:56:33.058275Z"
    }
   },
   "cell_type": "code",
   "source": "v1",
   "id": "36dd23d5fac14751",
   "outputs": [
    {
     "data": {
      "text/plain": [
       "Vector(1.0, 2)"
      ]
     },
     "execution_count": 12,
     "metadata": {},
     "output_type": "execute_result"
    }
   ],
   "execution_count": 12
  },
  {
   "metadata": {
    "ExecuteTime": {
     "end_time": "2025-04-02T07:56:36.156395Z",
     "start_time": "2025-04-02T07:56:36.151794Z"
    }
   },
   "cell_type": "code",
   "source": "eval(repr(v1)) == v1",
   "id": "d6c3f2303561a9ba",
   "outputs": [
    {
     "data": {
      "text/plain": [
       "False"
      ]
     },
     "execution_count": 14,
     "metadata": {},
     "output_type": "execute_result"
    }
   ],
   "execution_count": 14
  },
  {
   "metadata": {
    "ExecuteTime": {
     "end_time": "2025-04-02T08:07:59.772884Z",
     "start_time": "2025-04-02T08:07:59.769922Z"
    }
   },
   "cell_type": "code",
   "source": "bool(0)",
   "id": "400304853a3605a1",
   "outputs": [
    {
     "data": {
      "text/plain": [
       "False"
      ]
     },
     "execution_count": 37,
     "metadata": {},
     "output_type": "execute_result"
    }
   ],
   "execution_count": 37
  },
  {
   "metadata": {
    "ExecuteTime": {
     "end_time": "2025-04-02T08:05:34.264427Z",
     "start_time": "2025-04-02T08:05:34.258810Z"
    }
   },
   "cell_type": "code",
   "source": "abs(v2)",
   "id": "aea3b4c4d01d0175",
   "outputs": [
    {
     "data": {
      "text/plain": [
       "11.180339887498949"
      ]
     },
     "execution_count": 28,
     "metadata": {},
     "output_type": "execute_result"
    }
   ],
   "execution_count": 28
  },
  {
   "metadata": {
    "ExecuteTime": {
     "end_time": "2025-04-12T07:08:36.731807Z",
     "start_time": "2025-04-12T07:08:36.718193Z"
    }
   },
   "cell_type": "code",
   "source": [
    "import collections\n",
    "nums = collections.Iterable()"
   ],
   "id": "3c8119f0a419a6c9",
   "outputs": [
    {
     "ename": "AttributeError",
     "evalue": "module 'collections' has no attribute 'Iterable'",
     "output_type": "error",
     "traceback": [
      "\u001B[0;31m---------------------------------------------------------------------------\u001B[0m",
      "\u001B[0;31mAttributeError\u001B[0m                            Traceback (most recent call last)",
      "Input \u001B[0;32mIn [5]\u001B[0m, in \u001B[0;36m<cell line: 2>\u001B[0;34m()\u001B[0m\n\u001B[1;32m      1\u001B[0m \u001B[38;5;28;01mimport\u001B[39;00m \u001B[38;5;21;01mcollections\u001B[39;00m\n\u001B[0;32m----> 2\u001B[0m nums \u001B[38;5;241m=\u001B[39m \u001B[43mcollections\u001B[49m\u001B[38;5;241;43m.\u001B[39;49m\u001B[43mIterable\u001B[49m()\n",
      "\u001B[0;31mAttributeError\u001B[0m: module 'collections' has no attribute 'Iterable'"
     ]
    }
   ],
   "execution_count": 5
  },
  {
   "metadata": {},
   "cell_type": "code",
   "execution_count": 8,
   "source": [
    "from collections import Iterable\n",
    "class NewItr(Iterable):\n",
    "    def __init__(self):\n",
    "        "
   ],
   "id": "dd4f7962b9b232a2",
   "outputs": []
  },
  {
   "metadata": {
    "ExecuteTime": {
     "end_time": "2025-04-28T14:41:33.479255Z",
     "start_time": "2025-04-28T14:41:33.465370Z"
    }
   },
   "cell_type": "code",
   "source": [
    "# bool(x) checks for __bool__ if not found then checks for __len__ if that too not found gives Ture always \n",
    "class New:\n",
    "    def __init__(self,x):\n",
    "        self.x = x\n",
    "    \n",
    "five = New(5)\n",
    "bool(five)\n"
   ],
   "id": "5bb5417d0d7c872f",
   "outputs": [
    {
     "data": {
      "text/plain": [
       "True"
      ]
     },
     "execution_count": 6,
     "metadata": {},
     "output_type": "execute_result"
    }
   ],
   "execution_count": 6
  },
  {
   "metadata": {},
   "cell_type": "markdown",
   "source": [
    "## Iterable\n",
    "#### data types with __iter__ or __getitem__ methods. User defined ones call __next__ on the data "
   ],
   "id": "fe8c28b29d44cb3a"
  },
  {
   "metadata": {
    "ExecuteTime": {
     "end_time": "2025-04-28T15:09:48.807177Z",
     "start_time": "2025-04-28T15:09:48.795501Z"
    }
   },
   "cell_type": "code",
   "source": [
    "import random\n",
    "class Counter:\n",
    "    def __init__(self,x):\n",
    "        self.__limit = x + random.randint(1,6)\n",
    "        self.counter = 0\n",
    "    def __iter__(self):\n",
    "        return self\n",
    "    def __next__(self):\n",
    "        if self.counter < self.__limit:\n",
    "            self.counter +=1\n",
    "            return self.counter\n",
    "        else:\n",
    "            raise StopIteration\n"
   ],
   "id": "6e2ad341a08fab4a",
   "outputs": [],
   "execution_count": 16
  },
  {
   "metadata": {
    "ExecuteTime": {
     "end_time": "2025-04-28T15:09:48.991709Z",
     "start_time": "2025-04-28T15:09:48.988399Z"
    }
   },
   "cell_type": "code",
   "source": [
    "c = Counter(5)\n",
    "for x in c:\n",
    "    print(x)"
   ],
   "id": "592814a454eff34a",
   "outputs": [
    {
     "name": "stdout",
     "output_type": "stream",
     "text": [
      "1\n",
      "2\n",
      "3\n",
      "4\n",
      "5\n",
      "6\n",
      "7\n"
     ]
    }
   ],
   "execution_count": 17
  },
  {
   "metadata": {
    "ExecuteTime": {
     "end_time": "2025-04-28T15:07:28.427255Z",
     "start_time": "2025-04-28T15:07:28.424167Z"
    }
   },
   "cell_type": "code",
   "source": "c.counter",
   "id": "15b17aeeb380264a",
   "outputs": [
    {
     "data": {
      "text/plain": [
       "11"
      ]
     },
     "execution_count": 13,
     "metadata": {},
     "output_type": "execute_result"
    }
   ],
   "execution_count": 13
  },
  {
   "metadata": {},
   "cell_type": "code",
   "outputs": [],
   "execution_count": null,
   "source": "",
   "id": "7db2cfad500892fc"
  }
 ],
 "metadata": {
  "kernelspec": {
   "display_name": "Python 3",
   "language": "python",
   "name": "python3"
  },
  "language_info": {
   "codemirror_mode": {
    "name": "ipython",
    "version": 2
   },
   "file_extension": ".py",
   "mimetype": "text/x-python",
   "name": "python",
   "nbconvert_exporter": "python",
   "pygments_lexer": "ipython2",
   "version": "2.7.6"
  }
 },
 "nbformat": 4,
 "nbformat_minor": 5
}
